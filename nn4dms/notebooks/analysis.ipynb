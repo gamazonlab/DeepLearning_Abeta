{
 "cells": [
  {
   "cell_type": "markdown",
   "metadata": {},
   "source": [
    "# Analysis of trained models and training logs\n",
    "This notebook shows how to load, process, and analyze logs that are automatically generated during training. It also demonstrates how to make plots to examine performance of a single model or compare performance of multiple models.\n",
    "\n",
    "Prerequisites:\n",
    "- To run this example live, you must train at least two models to generate the trained log directories and set the paths below.\n",
    "\n",
    "Each log directory contains the following:\n",
    "- args.txt: the arguments fed into regression.py to train the model\n",
    "- split: the train-tune-test split used to train the model\n",
    "- final_evaluation.txt: final evaluation metrics (MSE, Pearson's r, Spearman's r, and r^2) on each of the split sets\n",
    "- predictions: the model's score predictions for every variant in each of the split sets\n",
    "- the trained model itself: see the inference notebook for more information on how to use this\n",
    "\n",
    "This codebase provides several convenient functions for loading this log data."
   ]
  },
  {
   "cell_type": "code",
   "execution_count": 1,
   "metadata": {},
   "outputs": [],
   "source": [
    "# reload modules before executing code in order to make development and debugging easier\n",
    "%load_ext autoreload\n",
    "%autoreload 2"
   ]
  },
  {
   "cell_type": "code",
   "execution_count": 2,
   "metadata": {},
   "outputs": [],
   "source": [
    "# this jupyter notebook is running inside of the \"notebooks\" directory\n",
    "# for relative paths to work properly, we need to set the current working directory to the root of the project\n",
    "# for imports to work properly, we need to add the code folder to the system path\n",
    "import os\n",
    "from os.path import abspath, join, isdir, basename\n",
    "import sys\n",
    "if not isdir(\"notebooks\"):\n",
    "    # if there's a \"notebooks\" directory in the cwd, we've already set the cwd so no need to do it again\n",
    "    os.chdir(\"..\")\n",
    "module_path = abspath(\"code\")\n",
    "if module_path not in sys.path:\n",
    "    sys.path.append(module_path)"
   ]
  },
  {
   "cell_type": "code",
   "execution_count": 3,
   "metadata": {},
   "outputs": [],
   "source": [
    "import numpy as np\n",
    "import pandas as pd\n",
    "import sklearn.metrics as skm\n",
    "from scipy.stats import pearsonr, spearmanr\n",
    "import matplotlib\n",
    "import matplotlib.pyplot as plt\n",
    "import seaborn as sns\n",
    "import analysis as an"
   ]
  },
  {
   "cell_type": "markdown",
   "metadata": {},
   "source": [
    "# Define the log directories\n",
    "To run this script live, you must train at least two models. As an example, we are using the avGFP linear regression and fully connected models, trained using the arguments in `pub/regression_args/avgfp_main_lr.txt` and `pub/regression_args/avgfp_main_fc.txt`. You can use these or train your own models. For comparing performance of many trained models, you must write your own function to collect the log directory names. Then, using them with this example is then relatively straightfoward. "
   ]
  },
  {
   "cell_type": "code",
   "execution_count": 4,
   "metadata": {},
   "outputs": [],
   "source": [
    "log_dir_lr = \"output/training_logs/log_local_local_2020-09-22_22-02-33_avgfp_lr_lr0.0001_bs128_DKPQxV5s\"\n",
    "log_dir_fc = \"output/training_logs/log_local_local_2020-09-22_22-02-36_avgfp_fc-3xh100_lr0.0001_bs32_RbLfpQvW\"\n",
    "log_dirs = [log_dir_lr, log_dir_fc]"
   ]
  },
  {
   "cell_type": "markdown",
   "metadata": {},
   "source": [
    "# Loading score predictions (single model)\n",
    "The utility function uses the dataset tsv as a base and adds columns for the set name (train, tune, test, etc) and the predicted score."
   ]
  },
  {
   "cell_type": "code",
   "execution_count": 5,
   "metadata": {},
   "outputs": [
    {
     "data": {
      "text/html": [
       "<div>\n",
       "<style scoped>\n",
       "    .dataframe tbody tr th:only-of-type {\n",
       "        vertical-align: middle;\n",
       "    }\n",
       "\n",
       "    .dataframe tbody tr th {\n",
       "        vertical-align: top;\n",
       "    }\n",
       "\n",
       "    .dataframe thead th {\n",
       "        text-align: right;\n",
       "    }\n",
       "</style>\n",
       "<table border=\"1\" class=\"dataframe\">\n",
       "  <thead>\n",
       "    <tr style=\"text-align: right;\">\n",
       "      <th></th>\n",
       "      <th>variant</th>\n",
       "      <th>num_mutations</th>\n",
       "      <th>score</th>\n",
       "      <th>score_wt_norm</th>\n",
       "      <th>set_name</th>\n",
       "      <th>prediction</th>\n",
       "    </tr>\n",
       "  </thead>\n",
       "  <tbody>\n",
       "    <tr>\n",
       "      <th>0</th>\n",
       "      <td>A108D</td>\n",
       "      <td>1</td>\n",
       "      <td>1.301030</td>\n",
       "      <td>-2.418182</td>\n",
       "      <td>train</td>\n",
       "      <td>2.887126</td>\n",
       "    </tr>\n",
       "    <tr>\n",
       "      <th>1</th>\n",
       "      <td>A108D,N144D,I186V,M231T,L234P</td>\n",
       "      <td>5</td>\n",
       "      <td>1.301031</td>\n",
       "      <td>-2.418181</td>\n",
       "      <td>train</td>\n",
       "      <td>2.737248</td>\n",
       "    </tr>\n",
       "    <tr>\n",
       "      <th>2</th>\n",
       "      <td>A108D,Y141N,H146L,E220G</td>\n",
       "      <td>4</td>\n",
       "      <td>1.301189</td>\n",
       "      <td>-2.418023</td>\n",
       "      <td>tune</td>\n",
       "      <td>1.571186</td>\n",
       "    </tr>\n",
       "    <tr>\n",
       "      <th>3</th>\n",
       "      <td>A108G</td>\n",
       "      <td>1</td>\n",
       "      <td>3.708478</td>\n",
       "      <td>-0.010734</td>\n",
       "      <td>train</td>\n",
       "      <td>3.042639</td>\n",
       "    </tr>\n",
       "    <tr>\n",
       "      <th>4</th>\n",
       "      <td>A108G,K138M,R166C,L234P</td>\n",
       "      <td>4</td>\n",
       "      <td>3.582764</td>\n",
       "      <td>-0.136448</td>\n",
       "      <td>train</td>\n",
       "      <td>2.980971</td>\n",
       "    </tr>\n",
       "  </tbody>\n",
       "</table>\n",
       "</div>"
      ],
      "text/plain": [
       "                         variant  num_mutations     score  score_wt_norm  \\\n",
       "0                          A108D              1  1.301030      -2.418182   \n",
       "1  A108D,N144D,I186V,M231T,L234P              5  1.301031      -2.418181   \n",
       "2        A108D,Y141N,H146L,E220G              4  1.301189      -2.418023   \n",
       "3                          A108G              1  3.708478      -0.010734   \n",
       "4        A108G,K138M,R166C,L234P              4  3.582764      -0.136448   \n",
       "\n",
       "  set_name  prediction  \n",
       "0    train    2.887126  \n",
       "1    train    2.737248  \n",
       "2     tune    1.571186  \n",
       "3    train    3.042639  \n",
       "4    train    2.980971  "
      ]
     },
     "execution_count": 5,
     "metadata": {},
     "output_type": "execute_result"
    }
   ],
   "source": [
    "ds_lr = an.load_predictions(log_dir_lr)\n",
    "ds_lr.head()"
   ]
  },
  {
   "cell_type": "markdown",
   "metadata": {},
   "source": [
    "# Loading evaluation metrics (single model)"
   ]
  },
  {
   "cell_type": "code",
   "execution_count": 6,
   "metadata": {},
   "outputs": [
    {
     "data": {
      "text/html": [
       "<div>\n",
       "<style scoped>\n",
       "    .dataframe tbody tr th:only-of-type {\n",
       "        vertical-align: middle;\n",
       "    }\n",
       "\n",
       "    .dataframe tbody tr th {\n",
       "        vertical-align: top;\n",
       "    }\n",
       "\n",
       "    .dataframe thead th {\n",
       "        text-align: right;\n",
       "    }\n",
       "</style>\n",
       "<table border=\"1\" class=\"dataframe\">\n",
       "  <thead>\n",
       "    <tr style=\"text-align: right;\">\n",
       "      <th></th>\n",
       "      <th>set</th>\n",
       "      <th>mse</th>\n",
       "      <th>pearsonr</th>\n",
       "      <th>r2</th>\n",
       "      <th>spearmanr</th>\n",
       "      <th>epoch</th>\n",
       "      <th>early</th>\n",
       "    </tr>\n",
       "  </thead>\n",
       "  <tbody>\n",
       "    <tr>\n",
       "      <th>0</th>\n",
       "      <td>train</td>\n",
       "      <td>0.330647</td>\n",
       "      <td>0.840203</td>\n",
       "      <td>0.705897</td>\n",
       "      <td>0.858721</td>\n",
       "      <td>66</td>\n",
       "      <td>True</td>\n",
       "    </tr>\n",
       "    <tr>\n",
       "      <th>1</th>\n",
       "      <td>tune</td>\n",
       "      <td>0.367826</td>\n",
       "      <td>0.820646</td>\n",
       "      <td>0.672916</td>\n",
       "      <td>0.856183</td>\n",
       "      <td>66</td>\n",
       "      <td>True</td>\n",
       "    </tr>\n",
       "    <tr>\n",
       "      <th>2</th>\n",
       "      <td>stest</td>\n",
       "      <td>0.365287</td>\n",
       "      <td>0.821362</td>\n",
       "      <td>0.674514</td>\n",
       "      <td>0.854083</td>\n",
       "      <td>66</td>\n",
       "      <td>True</td>\n",
       "    </tr>\n",
       "  </tbody>\n",
       "</table>\n",
       "</div>"
      ],
      "text/plain": [
       "     set       mse  pearsonr        r2  spearmanr  epoch  early\n",
       "0  train  0.330647  0.840203  0.705897   0.858721     66   True\n",
       "1   tune  0.367826  0.820646  0.672916   0.856183     66   True\n",
       "2  stest  0.365287  0.821362  0.674514   0.854083     66   True"
      ]
     },
     "execution_count": 6,
     "metadata": {},
     "output_type": "execute_result"
    }
   ],
   "source": [
    "metrics_lr = an.load_metrics(log_dir_lr)\n",
    "metrics_lr"
   ]
  },
  {
   "cell_type": "markdown",
   "metadata": {},
   "source": [
    "Sometimes it is convenient to have access to other aspects of the model, such as the learning rate and batch size. You can load the regression arguments as a dictionary using `an.load_args()`. Or, you can use `an.load_metrics_and_args` to load both the metrics and arguments in a single dataframe. The combined dataframe is set up so that each row can be a different model, which helps with comparisons between models. "
   ]
  },
  {
   "cell_type": "code",
   "execution_count": 7,
   "metadata": {},
   "outputs": [
    {
     "data": {
      "text/html": [
       "<div>\n",
       "<style scoped>\n",
       "    .dataframe tbody tr th:only-of-type {\n",
       "        vertical-align: middle;\n",
       "    }\n",
       "\n",
       "    .dataframe tbody tr th {\n",
       "        vertical-align: top;\n",
       "    }\n",
       "\n",
       "    .dataframe thead th {\n",
       "        text-align: right;\n",
       "    }\n",
       "</style>\n",
       "<table border=\"1\" class=\"dataframe\">\n",
       "  <thead>\n",
       "    <tr style=\"text-align: right;\">\n",
       "      <th></th>\n",
       "      <th>uuid</th>\n",
       "      <th>cluster</th>\n",
       "      <th>process</th>\n",
       "      <th>log_dir</th>\n",
       "      <th>dataset_name</th>\n",
       "      <th>dataset_file</th>\n",
       "      <th>wt_aa</th>\n",
       "      <th>wt_ofs</th>\n",
       "      <th>net_file</th>\n",
       "      <th>encoding</th>\n",
       "      <th>...</th>\n",
       "      <th>train_r2</th>\n",
       "      <th>train_spearmanr</th>\n",
       "      <th>tune_mse</th>\n",
       "      <th>tune_pearsonr</th>\n",
       "      <th>tune_r2</th>\n",
       "      <th>tune_spearmanr</th>\n",
       "      <th>stest_mse</th>\n",
       "      <th>stest_pearsonr</th>\n",
       "      <th>stest_r2</th>\n",
       "      <th>stest_spearmanr</th>\n",
       "    </tr>\n",
       "  </thead>\n",
       "  <tbody>\n",
       "    <tr>\n",
       "      <th>0</th>\n",
       "      <td>DKPQxV5s</td>\n",
       "      <td>local</td>\n",
       "      <td>local</td>\n",
       "      <td>output/training_logs/log_local_local_2020-09-2...</td>\n",
       "      <td>avgfp</td>\n",
       "      <td></td>\n",
       "      <td></td>\n",
       "      <td></td>\n",
       "      <td>network_specs/lr.yml</td>\n",
       "      <td>one_hot,aa_index</td>\n",
       "      <td>...</td>\n",
       "      <td>0.705897</td>\n",
       "      <td>0.858721</td>\n",
       "      <td>0.367826</td>\n",
       "      <td>0.820646</td>\n",
       "      <td>0.672916</td>\n",
       "      <td>0.856183</td>\n",
       "      <td>0.365287</td>\n",
       "      <td>0.821362</td>\n",
       "      <td>0.674514</td>\n",
       "      <td>0.854083</td>\n",
       "    </tr>\n",
       "  </tbody>\n",
       "</table>\n",
       "<p>1 rows × 45 columns</p>\n",
       "</div>"
      ],
      "text/plain": [
       "       uuid cluster process  \\\n",
       "0  DKPQxV5s   local   local   \n",
       "\n",
       "                                             log_dir dataset_name  \\\n",
       "0  output/training_logs/log_local_local_2020-09-2...        avgfp   \n",
       "\n",
       "  dataset_file wt_aa wt_ofs              net_file          encoding  ...  \\\n",
       "0                            network_specs/lr.yml  one_hot,aa_index  ...   \n",
       "\n",
       "   train_r2  train_spearmanr  tune_mse  tune_pearsonr   tune_r2  \\\n",
       "0  0.705897         0.858721  0.367826       0.820646  0.672916   \n",
       "\n",
       "   tune_spearmanr  stest_mse stest_pearsonr  stest_r2  stest_spearmanr  \n",
       "0        0.856183   0.365287       0.821362  0.674514         0.854083  \n",
       "\n",
       "[1 rows x 45 columns]"
      ]
     },
     "execution_count": 7,
     "metadata": {},
     "output_type": "execute_result"
    }
   ],
   "source": [
    "met_args_lr = an.load_metrics_and_args(log_dir_lr)\n",
    "met_args_lr"
   ]
  },
  {
   "cell_type": "markdown",
   "metadata": {},
   "source": [
    "# Evaluating a single model\n",
    "The dataframe contains variants from all sets (train, tune, test, etc), so if you are interested in a single set, you must select just those variants."
   ]
  },
  {
   "cell_type": "code",
   "execution_count": 8,
   "metadata": {},
   "outputs": [],
   "source": [
    "# before creating the testset-only dataframe, add a column with mean absolute error, used below\n",
    "ds_lr[\"abs_err\"] = np.abs(ds_lr[\"score\"] - ds_lr[\"prediction\"])\n",
    "\n",
    "# create a subset view of the dataframe containing only test set variants\n",
    "ds_lr_stest = ds_lr.loc[ds_lr.set_name == \"stest\"]"
   ]
  },
  {
   "cell_type": "markdown",
   "metadata": {},
   "source": [
    "## Scatterplot of predicted vs. true score"
   ]
  },
  {
   "cell_type": "code",
   "execution_count": 9,
   "metadata": {},
   "outputs": [
    {
     "data": {
      "image/png": "[encoded data removed]",
      "text/plain": [
       "<Figure size 432x288 with 1 Axes>"
      ]
     },
     "metadata": {
      "needs_background": "light"
     },
     "output_type": "display_data"
    }
   ],
   "source": [
    "fig, ax = plt.subplots(1)\n",
    "sns.scatterplot(x=\"score\", y=\"prediction\", data=ds_lr_stest, ax=ax)\n",
    "# draw a line of equivalence\n",
    "x0, x1 = ax.get_xlim()\n",
    "y0, y1 = ax.get_ylim()\n",
    "lims = [max(x0, y0), min(x1, y1)]\n",
    "ax.plot(lims, lims, ':k')  \n",
    "ax.set(ylabel=\"Predicted score\", xlabel=\"True score\", title=\"Predicted score vs. score (Linear regression)\")\n",
    "plt.show()\n",
    "plt.close(fig)"
   ]
  },
  {
   "cell_type": "markdown",
   "metadata": {},
   "source": [
    "## Mean absolute error by number of mutations"
   ]
  },
  {
   "cell_type": "code",
   "execution_count": 10,
   "metadata": {},
   "outputs": [
    {
     "data": {
      "image/png": "[encoded data removed]",
      "text/plain": [
       "<Figure size 432x288 with 1 Axes>"
      ]
     },
     "metadata": {
      "needs_background": "light"
     },
     "output_type": "display_data"
    }
   ],
   "source": [
    "# plot the mean absolute error vs. number of mutations\n",
    "# can do this more easily with pandas groupby, apply\n",
    "grouped_mean = ds_lr_stest.groupby(\"num_mutations\", as_index=False).mean()\n",
    "fig, ax = plt.subplots(1)\n",
    "sns.stripplot(x=\"num_mutations\", y=\"abs_err\", data=grouped_mean[grouped_mean.num_mutations < 13], ax=ax)\n",
    "ax.set(ylabel=\"Mean absolute error\", xlabel=\"Number of mutations\", title=\"Mean absolute error by number of mutations\")\n",
    "plt.show()\n",
    "plt.close(fig)"
   ]
  },
  {
   "cell_type": "markdown",
   "metadata": {},
   "source": [
    "## Additional evaluation metrics\n",
    "The regression training script automatically computes a few metrics, but you can also use the true and predicted scores to compute your own. Here, let's recompute Pearson's correlation coefficient and compare it to the same metric computed during training."
   ]
  },
  {
   "cell_type": "code",
   "execution_count": 11,
   "metadata": {},
   "outputs": [
    {
     "data": {
      "text/plain": [
       "0.8213618358360942"
      ]
     },
     "execution_count": 11,
     "metadata": {},
     "output_type": "execute_result"
    }
   ],
   "source": [
    "my_pearsonr = pearsonr(ds_lr_stest[\"score\"], ds_lr_stest[\"prediction\"])[0]\n",
    "my_pearsonr"
   ]
  },
  {
   "cell_type": "code",
   "execution_count": 12,
   "metadata": {},
   "outputs": [
    {
     "data": {
      "text/plain": [
       "0.8213618358935934"
      ]
     },
     "execution_count": 12,
     "metadata": {},
     "output_type": "execute_result"
    }
   ],
   "source": [
    "# the pearsonr from the metrics dataframe\n",
    "met_args_lr.loc[0, \"stest_pearsonr\"]"
   ]
  },
  {
   "cell_type": "markdown",
   "metadata": {},
   "source": [
    "There's a small amount of floating point imprecision, but otherwise the values are identical."
   ]
  },
  {
   "cell_type": "code",
   "execution_count": 13,
   "metadata": {},
   "outputs": [
    {
     "data": {
      "text/plain": [
       "True"
      ]
     },
     "execution_count": 13,
     "metadata": {},
     "output_type": "execute_result"
    }
   ],
   "source": [
    "np.isclose(my_pearsonr, met_args_lr.loc[0, \"stest_pearsonr\"])"
   ]
  },
  {
   "cell_type": "markdown",
   "metadata": {},
   "source": [
    "# Loading score predictions and metrics (multiple models)\n",
    "The functions used above also accept lists of log directories. For loading predictions, you can optionally specify column names, otherwise the column names will be automatically labeled by number. "
   ]
  },
  {
   "cell_type": "code",
   "execution_count": 14,
   "metadata": {},
   "outputs": [
    {
     "data": {
      "text/html": [
       "<div>\n",
       "<style scoped>\n",
       "    .dataframe tbody tr th:only-of-type {\n",
       "        vertical-align: middle;\n",
       "    }\n",
       "\n",
       "    .dataframe tbody tr th {\n",
       "        vertical-align: top;\n",
       "    }\n",
       "\n",
       "    .dataframe thead th {\n",
       "        text-align: right;\n",
       "    }\n",
       "</style>\n",
       "<table border=\"1\" class=\"dataframe\">\n",
       "  <thead>\n",
       "    <tr style=\"text-align: right;\">\n",
       "      <th></th>\n",
       "      <th>variant</th>\n",
       "      <th>num_mutations</th>\n",
       "      <th>score</th>\n",
       "      <th>score_wt_norm</th>\n",
       "      <th>set_name</th>\n",
       "      <th>lr</th>\n",
       "      <th>fc</th>\n",
       "    </tr>\n",
       "  </thead>\n",
       "  <tbody>\n",
       "    <tr>\n",
       "      <th>0</th>\n",
       "      <td>A108D</td>\n",
       "      <td>1</td>\n",
       "      <td>1.301030</td>\n",
       "      <td>-2.418182</td>\n",
       "      <td>train</td>\n",
       "      <td>2.887126</td>\n",
       "      <td>2.872950</td>\n",
       "    </tr>\n",
       "    <tr>\n",
       "      <th>1</th>\n",
       "      <td>A108D,N144D,I186V,M231T,L234P</td>\n",
       "      <td>5</td>\n",
       "      <td>1.301031</td>\n",
       "      <td>-2.418181</td>\n",
       "      <td>train</td>\n",
       "      <td>2.737248</td>\n",
       "      <td>2.276604</td>\n",
       "    </tr>\n",
       "    <tr>\n",
       "      <th>2</th>\n",
       "      <td>A108D,Y141N,H146L,E220G</td>\n",
       "      <td>4</td>\n",
       "      <td>1.301189</td>\n",
       "      <td>-2.418023</td>\n",
       "      <td>tune</td>\n",
       "      <td>1.571186</td>\n",
       "      <td>1.411553</td>\n",
       "    </tr>\n",
       "    <tr>\n",
       "      <th>3</th>\n",
       "      <td>A108G</td>\n",
       "      <td>1</td>\n",
       "      <td>3.708478</td>\n",
       "      <td>-0.010734</td>\n",
       "      <td>train</td>\n",
       "      <td>3.042639</td>\n",
       "      <td>3.497256</td>\n",
       "    </tr>\n",
       "    <tr>\n",
       "      <th>4</th>\n",
       "      <td>A108G,K138M,R166C,L234P</td>\n",
       "      <td>4</td>\n",
       "      <td>3.582764</td>\n",
       "      <td>-0.136448</td>\n",
       "      <td>train</td>\n",
       "      <td>2.980971</td>\n",
       "      <td>3.326138</td>\n",
       "    </tr>\n",
       "  </tbody>\n",
       "</table>\n",
       "</div>"
      ],
      "text/plain": [
       "                         variant  num_mutations     score  score_wt_norm  \\\n",
       "0                          A108D              1  1.301030      -2.418182   \n",
       "1  A108D,N144D,I186V,M231T,L234P              5  1.301031      -2.418181   \n",
       "2        A108D,Y141N,H146L,E220G              4  1.301189      -2.418023   \n",
       "3                          A108G              1  3.708478      -0.010734   \n",
       "4        A108G,K138M,R166C,L234P              4  3.582764      -0.136448   \n",
       "\n",
       "  set_name        lr        fc  \n",
       "0    train  2.887126  2.872950  \n",
       "1    train  2.737248  2.276604  \n",
       "2     tune  1.571186  1.411553  \n",
       "3    train  3.042639  3.497256  \n",
       "4    train  2.980971  3.326138  "
      ]
     },
     "execution_count": 14,
     "metadata": {},
     "output_type": "execute_result"
    }
   ],
   "source": [
    "ds = an.load_predictions(log_dirs, col_names=[\"lr\", \"fc\"])\n",
    "ds.head()"
   ]
  },
  {
   "cell_type": "markdown",
   "metadata": {},
   "source": [
    "Loading metrics is also straightforward. Note that `an.load_metrics()` does not support multiple log dirs, only `an.load_metrics_and_args()`."
   ]
  },
  {
   "cell_type": "code",
   "execution_count": 15,
   "metadata": {},
   "outputs": [
    {
     "data": {
      "text/html": [
       "<div>\n",
       "<style scoped>\n",
       "    .dataframe tbody tr th:only-of-type {\n",
       "        vertical-align: middle;\n",
       "    }\n",
       "\n",
       "    .dataframe tbody tr th {\n",
       "        vertical-align: top;\n",
       "    }\n",
       "\n",
       "    .dataframe thead th {\n",
       "        text-align: right;\n",
       "    }\n",
       "</style>\n",
       "<table border=\"1\" class=\"dataframe\">\n",
       "  <thead>\n",
       "    <tr style=\"text-align: right;\">\n",
       "      <th></th>\n",
       "      <th>uuid</th>\n",
       "      <th>cluster</th>\n",
       "      <th>process</th>\n",
       "      <th>log_dir</th>\n",
       "      <th>dataset_name</th>\n",
       "      <th>dataset_file</th>\n",
       "      <th>wt_aa</th>\n",
       "      <th>wt_ofs</th>\n",
       "      <th>net_file</th>\n",
       "      <th>encoding</th>\n",
       "      <th>...</th>\n",
       "      <th>train_r2</th>\n",
       "      <th>train_spearmanr</th>\n",
       "      <th>tune_mse</th>\n",
       "      <th>tune_pearsonr</th>\n",
       "      <th>tune_r2</th>\n",
       "      <th>tune_spearmanr</th>\n",
       "      <th>stest_mse</th>\n",
       "      <th>stest_pearsonr</th>\n",
       "      <th>stest_r2</th>\n",
       "      <th>stest_spearmanr</th>\n",
       "    </tr>\n",
       "  </thead>\n",
       "  <tbody>\n",
       "    <tr>\n",
       "      <th>0</th>\n",
       "      <td>DKPQxV5s</td>\n",
       "      <td>local</td>\n",
       "      <td>local</td>\n",
       "      <td>output/training_logs/log_local_local_2020-09-2...</td>\n",
       "      <td>avgfp</td>\n",
       "      <td></td>\n",
       "      <td></td>\n",
       "      <td></td>\n",
       "      <td>network_specs/lr.yml</td>\n",
       "      <td>one_hot,aa_index</td>\n",
       "      <td>...</td>\n",
       "      <td>0.705897</td>\n",
       "      <td>0.858721</td>\n",
       "      <td>0.367826</td>\n",
       "      <td>0.820646</td>\n",
       "      <td>0.672916</td>\n",
       "      <td>0.856183</td>\n",
       "      <td>0.365287</td>\n",
       "      <td>0.821362</td>\n",
       "      <td>0.674514</td>\n",
       "      <td>0.854083</td>\n",
       "    </tr>\n",
       "    <tr>\n",
       "      <th>0</th>\n",
       "      <td>RbLfpQvW</td>\n",
       "      <td>local</td>\n",
       "      <td>local</td>\n",
       "      <td>output/training_logs/log_local_local_2020-09-2...</td>\n",
       "      <td>avgfp</td>\n",
       "      <td></td>\n",
       "      <td></td>\n",
       "      <td></td>\n",
       "      <td>network_specs/fcns/fc-3xh100.yml</td>\n",
       "      <td>one_hot,aa_index</td>\n",
       "      <td>...</td>\n",
       "      <td>0.946306</td>\n",
       "      <td>0.866882</td>\n",
       "      <td>0.083971</td>\n",
       "      <td>0.963427</td>\n",
       "      <td>0.925330</td>\n",
       "      <td>0.862950</td>\n",
       "      <td>0.076445</td>\n",
       "      <td>0.967028</td>\n",
       "      <td>0.931884</td>\n",
       "      <td>0.861830</td>\n",
       "    </tr>\n",
       "  </tbody>\n",
       "</table>\n",
       "<p>2 rows × 45 columns</p>\n",
       "</div>"
      ],
      "text/plain": [
       "       uuid cluster process  \\\n",
       "0  DKPQxV5s   local   local   \n",
       "0  RbLfpQvW   local   local   \n",
       "\n",
       "                                             log_dir dataset_name  \\\n",
       "0  output/training_logs/log_local_local_2020-09-2...        avgfp   \n",
       "0  output/training_logs/log_local_local_2020-09-2...        avgfp   \n",
       "\n",
       "  dataset_file wt_aa wt_ofs                          net_file  \\\n",
       "0                                        network_specs/lr.yml   \n",
       "0                            network_specs/fcns/fc-3xh100.yml   \n",
       "\n",
       "           encoding  ...  train_r2  train_spearmanr  tune_mse  tune_pearsonr  \\\n",
       "0  one_hot,aa_index  ...  0.705897         0.858721  0.367826       0.820646   \n",
       "0  one_hot,aa_index  ...  0.946306         0.866882  0.083971       0.963427   \n",
       "\n",
       "    tune_r2  tune_spearmanr  stest_mse stest_pearsonr  stest_r2  \\\n",
       "0  0.672916        0.856183   0.365287       0.821362  0.674514   \n",
       "0  0.925330        0.862950   0.076445       0.967028  0.931884   \n",
       "\n",
       "   stest_spearmanr  \n",
       "0         0.854083  \n",
       "0         0.861830  \n",
       "\n",
       "[2 rows x 45 columns]"
      ]
     },
     "execution_count": 15,
     "metadata": {},
     "output_type": "execute_result"
    }
   ],
   "source": [
    "metrics = an.load_metrics_and_args(log_dirs)\n",
    "metrics"
   ]
  },
  {
   "cell_type": "markdown",
   "metadata": {},
   "source": [
    "# Comparing multiple models"
   ]
  },
  {
   "cell_type": "markdown",
   "metadata": {},
   "source": [
    "Make multiple scatterplots for different models. Note again, we must subset the dataframe to select our desired train/tune/test set."
   ]
  },
  {
   "cell_type": "code",
   "execution_count": 16,
   "metadata": {},
   "outputs": [
    {
     "data": {
      "image/png": "[encoded data removed]",
      "text/plain": [
       "<Figure size 864x288 with 2 Axes>"
      ]
     },
     "metadata": {
      "needs_background": "light"
     },
     "output_type": "display_data"
    }
   ],
   "source": [
    "fig, axes = plt.subplots(nrows=1, ncols=2, figsize=(12, 4))\n",
    "for i, pred_col in enumerate([\"lr\", \"fc\"]):\n",
    "    ax = sns.scatterplot(x=\"score\", y=pred_col, data=ds[ds.set_name == \"stest\"], ax=axes[i])\n",
    "    # draw a line of equivalence\n",
    "    x0, x1 = ax.get_xlim()\n",
    "    y0, y1 = ax.get_ylim()\n",
    "    lims = [max(x0, y0), min(x1, y1)]\n",
    "    ax.plot(lims, lims, ':k')  \n",
    "    ax.set(ylabel=\"Predicted score\", xlabel=\"True score\", title=\"Predicted score vs. score ({})\".format(pred_col))\n",
    "plt.show()\n",
    "plt.close(fig)"
   ]
  },
  {
   "cell_type": "markdown",
   "metadata": {},
   "source": [
    "Compare performance metrics between datasets."
   ]
  },
  {
   "cell_type": "code",
   "execution_count": 17,
   "metadata": {},
   "outputs": [
    {
     "data": {
      "image/png": "[encoded data removed]",
      "text/plain": [
       "<Figure size 432x288 with 1 Axes>"
      ]
     },
     "metadata": {
      "needs_background": "light"
     },
     "output_type": "display_data"
    }
   ],
   "source": [
    "metrics[\"parsed_net_file\"] = metrics[\"net_file\"].apply(lambda nf: basename(nf).split(\".\")[0])\n",
    "fix, ax = plt.subplots(1)\n",
    "ax = sns.stripplot(x=\"parsed_net_file\", y=\"stest_pearsonr\", data=metrics)\n",
    "ax.set(xlabel=\"Network\", ylabel=\"Pearson's r\", title=\"Performance (test set)\")\n",
    "plt.show()\n",
    "plt.close(fig)"
   ]
  },
  {
   "cell_type": "code",
   "execution_count": null,
   "metadata": {},
   "outputs": [],
   "source": []
  }
 ],
 "metadata": {
  "kernelspec": {
   "display_name": "Python 3",
   "language": "python",
   "name": "python3"
  },
  "language_info": {
   "codemirror_mode": {
    "name": "ipython",
    "version": 3
   },
   "file_extension": ".py",
   "mimetype": "text/x-python",
   "name": "python",
   "nbconvert_exporter": "python",
   "pygments_lexer": "ipython3",
   "version": "3.8.8"
  },
  "toc-autonumbering": true
 },
 "nbformat": 4,
 "nbformat_minor": 4
}
