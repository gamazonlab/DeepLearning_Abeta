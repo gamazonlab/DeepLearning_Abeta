{
 "cells": [
  {
   "cell_type": "markdown",
   "metadata": {},
   "source": [
    "# Optimize a black-box protein sequence-function analyzer"
   ]
  },
  {
   "cell_type": "code",
   "execution_count": 1,
   "metadata": {},
   "outputs": [],
   "source": [
    "# this jupyter notebook is running inside of the \"notebooks\" directory\n",
    "# for relative paths to work properly, we need to set the current working directory to the root of the project\n",
    "# for imports to work properly, we need to add the code folder to the system path\n",
    "import os\n",
    "from os.path import abspath, join, isdir\n",
    "import sys\n",
    "if not isdir(\"notebooks\"):\n",
    "    # if there's a \"notebooks\" directory in the cwd, we've already set the cwd so no need to do it again\n",
    "    os.chdir(\"..\")\n",
    "module_path = abspath(\"code\")\n",
    "if module_path not in sys.path:\n",
    "    sys.path.append(module_path)"
   ]
  },
  {
   "cell_type": "code",
   "execution_count": 2,
   "metadata": {},
   "outputs": [],
   "source": [
    "import fnmatch\n",
    "import matplotlib.pyplot as plt\n",
    "import numpy as np\n",
    "import pickle\n",
    "import random\n",
    "import seaborn as sns\n",
    "import sys\n",
    "\n",
    "import design_tools\n",
    "import constants\n",
    "import encode as enc\n",
    "import inference as inf"
   ]
  },
  {
   "cell_type": "markdown",
   "metadata": {},
   "source": [
    "## Define variables for protein"
   ]
  },
  {
   "cell_type": "code",
   "execution_count": 3,
   "metadata": {},
   "outputs": [],
   "source": [
    "WT = 'MQYKLILNGKTLKGETTTEAVDAATAEKVFKQYANDNGVDGEWTYDDATKTFTVTE'\n",
    "AAs = constants.CHARS\n",
    "\n",
    "# List of lists: possible amino acids at each position, default is every AA for each position (includes WT AAs)\n",
    "AA_options = [tuple([AA for AA in AAs]) for i in range(len(WT))]\n",
    "AA_options.pop(0)\n",
    "AA_options.insert(0, ['M'])"
   ]
  },
  {
   "cell_type": "markdown",
   "metadata": {},
   "source": [
    "## Define black-box seq2fitness analyzers"
   ]
  },
  {
   "cell_type": "code",
   "execution_count": 4,
   "metadata": {},
   "outputs": [
    {
     "name": "stdout",
     "output_type": "stream",
     "text": [
      "WARNING:tensorflow:From /Users/sarahfahlberg/anaconda3/envs/gb1_inference/lib/python3.6/site-packages/tensorflow/python/training/saver.py:1276: checkpoint_exists (from tensorflow.python.training.checkpoint_management) is deprecated and will be removed in a future version.\n",
      "Instructions for updating:\n",
      "Use standard file APIs to check for files with this prefix.\n",
      "INFO:tensorflow:Restoring parameters from pub/trained_models/gb1/gb1_lr\n",
      "INFO:tensorflow:Restoring parameters from pub/trained_models/gb1/gb1_fc\n",
      "INFO:tensorflow:Restoring parameters from pub/trained_models/gb1/gb1_cnn\n",
      "INFO:tensorflow:Restoring parameters from pub/trained_models/gb1/gb1_gcn\n"
     ]
    }
   ],
   "source": [
    "model_dir = \"pub/trained_models/gb1/\"\n",
    "lr_prefix = model_dir + \"gb1_lr\"\n",
    "fc_prefix = model_dir + \"gb1_fc\"\n",
    "cnn_prefix = model_dir + \"gb1_cnn\"\n",
    "gcn_prefix = model_dir + \"gb1_gcn\"\n",
    "\n",
    "lr_sess = inf.restore_sess(lr_prefix)\n",
    "fc_sess = inf.restore_sess(fc_prefix)\n",
    "cnn_sess = inf.restore_sess(cnn_prefix)\n",
    "gcn_sess = inf.restore_sess(gcn_prefix)"
   ]
  },
  {
   "cell_type": "code",
   "execution_count": 5,
   "metadata": {},
   "outputs": [
    {
     "name": "stdout",
     "output_type": "stream",
     "text": [
      "-2.4499362\n"
     ]
    }
   ],
   "source": [
    "# Function that given a sequence returns its predicted functional score\n",
    "def seq2fitness(sequence):\n",
    "    encoded_seq = enc.encode(encoding=\"one_hot,aa_index\", char_seqs=[sequence])\n",
    "    function_lr = inf.run_inference(encoded_data=encoded_seq, sess=lr_sess)\n",
    "    function_fc\t= inf.run_inference(encoded_data=encoded_seq, sess=fc_sess)\n",
    "    function_gcn = inf.run_inference(encoded_data=encoded_seq, sess=gcn_sess)\n",
    "    function_cnn = inf.run_inference(encoded_data=encoded_seq, sess=cnn_sess)\n",
    "    return min([function_lr, function_fc, function_gcn, function_cnn])\n",
    "\n",
    "# Test:\n",
    "print(seq2fitness(WT))"
   ]
  },
  {
   "cell_type": "code",
   "execution_count": 6,
   "metadata": {},
   "outputs": [
    {
     "name": "stdout",
     "output_type": "stream",
     "text": [
      "[-2.4499362, -2.4499362, -2.4499362, -2.4499362, -2.4499362, -2.4499362, -2.4499362, -2.4499362, -2.4499362, -2.4499362]\n"
     ]
    }
   ],
   "source": [
    "# Function that given a list of sequences returns a list of their predicted functional scores\n",
    "# Using seq2fitness_many can often help speed up hill climbing process\n",
    "def seq2fitness_many(sequences):\n",
    "    encoded_many_variants = enc.encode(encoding=\"one_hot,aa_index\", char_seqs=sequences)\n",
    "    functions_lr = inf.run_inference(encoded_data=encoded_many_variants, sess=lr_sess)\n",
    "    functions_fc = inf.run_inference(encoded_data=encoded_many_variants, sess=fc_sess)\n",
    "    functions_cnn = inf.run_inference(encoded_data=encoded_many_variants, sess=cnn_sess)\n",
    "    functions_gcn = inf.run_inference(encoded_data=encoded_many_variants, sess=gcn_sess)\n",
    "    return [min(functions) for functions in zip(functions_lr, functions_fc, functions_cnn, functions_gcn)]\n",
    "\n",
    "# Test:\n",
    "print(seq2fitness_many([WT] * 10))"
   ]
  },
  {
   "cell_type": "markdown",
   "metadata": {},
   "source": [
    "## Define hill climbing parameters"
   ]
  },
  {
   "cell_type": "code",
   "execution_count": 7,
   "metadata": {},
   "outputs": [],
   "source": [
    "num_mut = 10 # number of mutations to introduce\n",
    "num_restarts = 1 # number of random initializations of hill-climbing\n",
    "max_steps = 1000 # maximum iterations for searching+climbing the hill\n",
    "mut_rate = 1 # how many mutations to introduce during each round of searching"
   ]
  },
  {
   "cell_type": "markdown",
   "metadata": {},
   "source": [
    "## Run hill climbing"
   ]
  },
  {
   "cell_type": "code",
   "execution_count": 8,
   "metadata": {},
   "outputs": [
    {
     "name": "stdout",
     "output_type": "stream",
     "text": [
      "Beginning restart 0\n"
     ]
    },
    {
     "name": "stderr",
     "output_type": "stream",
     "text": [
      "100%|██████████| 172/172 [00:00<00:00, 1473.02it/s]\n",
      "100%|██████████| 172/172 [00:00<00:00, 236.24it/s]\n",
      "100%|██████████| 172/172 [00:13<00:00, 12.94it/s]\n",
      "100%|██████████| 172/172 [00:50<00:00,  3.42it/s]\n"
     ]
    },
    {
     "name": "stdout",
     "output_type": "stream",
     "text": [
      "Current fitness: -0.2208\n"
     ]
    },
    {
     "name": "stderr",
     "output_type": "stream",
     "text": [
      "100%|██████████| 172/172 [00:00<00:00, 1666.34it/s]\n",
      "100%|██████████| 172/172 [00:00<00:00, 234.17it/s]\n",
      "100%|██████████| 172/172 [00:16<00:00, 10.44it/s]\n",
      "100%|██████████| 172/172 [00:56<00:00,  3.05it/s]\n"
     ]
    },
    {
     "name": "stdout",
     "output_type": "stream",
     "text": [
      "Current fitness: 2.3709\n"
     ]
    },
    {
     "name": "stderr",
     "output_type": "stream",
     "text": [
      "100%|██████████| 172/172 [00:00<00:00, 1603.28it/s]\n",
      "100%|██████████| 172/172 [00:00<00:00, 227.70it/s]\n",
      "100%|██████████| 172/172 [00:14<00:00, 12.17it/s]\n",
      "100%|██████████| 172/172 [01:01<00:00,  2.80it/s]\n"
     ]
    },
    {
     "name": "stdout",
     "output_type": "stream",
     "text": [
      "Current fitness: 3.9525\n"
     ]
    },
    {
     "name": "stderr",
     "output_type": "stream",
     "text": [
      "100%|██████████| 172/172 [00:00<00:00, 1646.35it/s]\n",
      "100%|██████████| 172/172 [00:00<00:00, 235.88it/s]\n",
      "100%|██████████| 172/172 [00:14<00:00, 12.07it/s]\n",
      "100%|██████████| 172/172 [00:55<00:00,  3.12it/s]\n"
     ]
    },
    {
     "name": "stdout",
     "output_type": "stream",
     "text": [
      "Current fitness: 5.0985\n"
     ]
    },
    {
     "name": "stderr",
     "output_type": "stream",
     "text": [
      "100%|██████████| 172/172 [00:00<00:00, 639.15it/s]\n",
      "100%|██████████| 172/172 [00:01<00:00, 157.62it/s]\n",
      "100%|██████████| 172/172 [00:18<00:00,  9.16it/s]\n",
      "100%|██████████| 172/172 [01:05<00:00,  2.63it/s]\n"
     ]
    },
    {
     "name": "stdout",
     "output_type": "stream",
     "text": [
      "Current fitness: 5.6982\n"
     ]
    },
    {
     "name": "stderr",
     "output_type": "stream",
     "text": [
      "100%|██████████| 172/172 [00:00<00:00, 1569.14it/s]\n",
      "100%|██████████| 172/172 [00:00<00:00, 222.20it/s]\n",
      "100%|██████████| 172/172 [00:15<00:00, 11.01it/s]\n",
      "100%|██████████| 172/172 [00:59<00:00,  2.88it/s]\n"
     ]
    },
    {
     "name": "stdout",
     "output_type": "stream",
     "text": [
      "Current fitness: 6.1668\n"
     ]
    },
    {
     "name": "stderr",
     "output_type": "stream",
     "text": [
      "100%|██████████| 172/172 [00:00<00:00, 1621.50it/s]\n",
      "100%|██████████| 172/172 [00:00<00:00, 223.00it/s]\n",
      "100%|██████████| 172/172 [00:16<00:00, 10.51it/s]\n",
      "100%|██████████| 172/172 [01:01<00:00,  2.78it/s]\n"
     ]
    },
    {
     "name": "stdout",
     "output_type": "stream",
     "text": [
      "Current fitness: 6.2515\n"
     ]
    },
    {
     "name": "stderr",
     "output_type": "stream",
     "text": [
      "100%|██████████| 172/172 [00:00<00:00, 1343.82it/s]\n",
      "100%|██████████| 172/172 [00:00<00:00, 221.65it/s]\n",
      "100%|██████████| 172/172 [00:17<00:00,  9.79it/s]\n",
      "100%|██████████| 172/172 [01:13<00:00,  2.33it/s]\n"
     ]
    },
    {
     "name": "stdout",
     "output_type": "stream",
     "text": [
      "Current fitness: 6.7588\n"
     ]
    },
    {
     "name": "stderr",
     "output_type": "stream",
     "text": [
      "100%|██████████| 172/172 [00:00<00:00, 1092.24it/s]\n",
      "100%|██████████| 172/172 [00:01<00:00, 88.98it/s] \n",
      "100%|██████████| 172/172 [00:15<00:00, 11.17it/s]\n",
      "100%|██████████| 172/172 [01:13<00:00,  2.33it/s]\n"
     ]
    },
    {
     "name": "stdout",
     "output_type": "stream",
     "text": [
      "Current fitness: 7.2099\n"
     ]
    },
    {
     "name": "stderr",
     "output_type": "stream",
     "text": [
      "100%|██████████| 172/172 [00:00<00:00, 1251.58it/s]\n",
      "100%|██████████| 172/172 [00:03<00:00, 54.86it/s]\n",
      "100%|██████████| 172/172 [00:23<00:00,  7.18it/s]\n",
      "100%|██████████| 172/172 [02:25<00:00,  1.18it/s]\n"
     ]
    },
    {
     "name": "stdout",
     "output_type": "stream",
     "text": [
      "Current fitness: 7.2978\n"
     ]
    },
    {
     "name": "stderr",
     "output_type": "stream",
     "text": [
      "100%|██████████| 172/172 [00:00<00:00, 682.99it/s]\n",
      "100%|██████████| 172/172 [00:01<00:00, 87.15it/s]\n",
      "100%|██████████| 172/172 [00:45<00:00,  3.80it/s]\n",
      "100%|██████████| 172/172 [02:44<00:00,  1.05it/s]\n"
     ]
    },
    {
     "name": "stdout",
     "output_type": "stream",
     "text": [
      "Current fitness: 7.6715\n"
     ]
    },
    {
     "name": "stderr",
     "output_type": "stream",
     "text": [
      "100%|██████████| 172/172 [00:00<00:00, 531.86it/s]\n",
      "100%|██████████| 172/172 [00:02<00:00, 67.85it/s]\n",
      "100%|██████████| 172/172 [00:51<00:00,  3.33it/s]\n",
      "100%|██████████| 172/172 [01:28<00:00,  1.95it/s]\n"
     ]
    },
    {
     "name": "stdout",
     "output_type": "stream",
     "text": [
      "Current fitness: 7.8358\n"
     ]
    },
    {
     "name": "stderr",
     "output_type": "stream",
     "text": [
      "100%|██████████| 172/172 [00:00<00:00, 1629.19it/s]\n",
      "100%|██████████| 172/172 [00:00<00:00, 218.64it/s]\n",
      "100%|██████████| 172/172 [00:16<00:00, 10.40it/s]\n",
      "100%|██████████| 172/172 [01:00<00:00,  2.86it/s]\n"
     ]
    },
    {
     "name": "stdout",
     "output_type": "stream",
     "text": [
      "Current fitness: 8.0878\n"
     ]
    },
    {
     "name": "stderr",
     "output_type": "stream",
     "text": [
      "100%|██████████| 172/172 [00:00<00:00, 1218.62it/s]\n",
      "100%|██████████| 172/172 [00:01<00:00, 170.97it/s]\n",
      "100%|██████████| 172/172 [00:18<00:00,  9.30it/s]\n",
      "100%|██████████| 172/172 [01:04<00:00,  2.68it/s]\n"
     ]
    },
    {
     "name": "stdout",
     "output_type": "stream",
     "text": [
      "Current fitness: 8.0878\n"
     ]
    },
    {
     "data": {
      "image/png": "[encoded data removed]",
      "text/plain": [
       "<Figure size 432x288 with 1 Axes>"
      ]
     },
     "metadata": {
      "needs_background": "light"
     },
     "output_type": "display_data"
    },
    {
     "name": "stdout",
     "output_type": "stream",
     "text": [
      "T15I,A33M,D39W,L6S,Y32A,V28K,D46R,T10W,G8W,A23P\n",
      "8.087834358215332\n"
     ]
    }
   ],
   "source": [
    "hill_climber = design_tools.Hill_climber(seq2fitness, WT, AA_options, num_mut, mut_rate=mut_rate, \n",
    "                                  num_restarts=num_restarts, max_steps=max_steps)\n",
    "hill_climber.seq2fitness_many = seq2fitness_many\n",
    "best_mut, fitness = hill_climber.optimize()\n",
    "hill_climber.plot_trajectory()\n",
    "with open('output/designs/best_mut_hill_climbing_nmut_{}_restart_{}.pkl'.format(num_mut, 0), 'wb') as f:\n",
    "    pickle.dump([best_mut, float(fitness)], f)\n",
    "\n",
    "print(best_mut)\n",
    "print(fitness)"
   ]
  },
  {
   "cell_type": "markdown",
   "metadata": {},
   "source": [
    "## Analysis of designs"
   ]
  },
  {
   "cell_type": "code",
   "execution_count": 11,
   "metadata": {},
   "outputs": [
    {
     "name": "stdout",
     "output_type": "stream",
     "text": [
      "best_mut_hill_climbing_nmut_10_restart_0.pkl\n",
      "Max fitness for 10 mutations is 8.0878 with mutations T15I,A33M,D39W,L6S,Y32A,V28K,D46R,T10W,G8W,A23P\n"
     ]
    }
   ],
   "source": [
    "# No random restarts, hill climbing reaches a local optima\n",
    "directory = 'output/designs'\n",
    "designs = []\n",
    "fitnesses = []\n",
    "for file_name in fnmatch.filter(os.listdir(directory), 'best_mut_hill_climbing_nmut_*'):\n",
    "    print(file_name)\n",
    "    with open(join(directory, file_name), 'rb') as f:\n",
    "        best_mut, fitness = pickle.load(f)\n",
    "    designs.append(best_mut)\n",
    "    fitnesses.append(fitness)\n",
    "    \n",
    "print('Max fitness for {} mutations is {} with mutations {}'.format(num_mut, round(max(fitnesses), 4), designs[fitnesses.index(max(fitnesses))]))"
   ]
  },
  {
   "cell_type": "markdown",
   "metadata": {},
   "source": [
    "### Analysis of 100 designed 10 mutants"
   ]
  },
  {
   "cell_type": "code",
   "execution_count": 12,
   "metadata": {},
   "outputs": [],
   "source": [
    "# Determine 10 mutant designs from 10 random restarts each\n",
    "directory = 'output/designs/10_mutant_designs'\n",
    "all_mutation_sets = []\n",
    "all_fitnesses = []\n",
    "for file_name in fnmatch.filter(os.listdir(directory), 'best_mut_hill_climbing_nmut_*'):\n",
    "    with open(join(directory, file_name), 'rb') as f:\n",
    "        best_mut, fitness = pickle.load(f)\n",
    "    all_mutation_sets.append(best_mut)\n",
    "    all_fitnesses.append(fitness)\n",
    "    \n",
    "designs = []\n",
    "fitnesses = []\n",
    "for i in range(100):\n",
    "    mutation_set = all_mutation_sets[i*10:i*10+10]\n",
    "    fitness_set = all_fitnesses[i*10:i*10+10]\n",
    "    designs.append(mutation_set[fitness_set.index(max(fitness_set))])\n",
    "    fitnesses.append(max(fitness_set))"
   ]
  },
  {
   "cell_type": "code",
   "execution_count": 13,
   "metadata": {
    "scrolled": false
   },
   "outputs": [
    {
     "name": "stdout",
     "output_type": "stream",
     "text": [
      "Number of unique designs: 73\n",
      "Number of designs identical to Design10: 4\n",
      "Max predicted fitness: 9.0\n"
     ]
    },
    {
     "data": {
      "image/png": "[encoded data removed]",
      "text/plain": [
       "<Figure size 432x288 with 1 Axes>"
      ]
     },
     "metadata": {
      "needs_background": "light"
     },
     "output_type": "display_data"
    },
    {
     "name": "stdout",
     "output_type": "stream",
     "text": [
      "Mut: A23Y, Frequency: 0.93, In Design10? True\n",
      "Mut: D39W, Frequency: 0.52, In Design10? True\n",
      "Mut: D39Y, Frequency: 0.48, In Design10? False\n",
      "Mut: V28K, Frequency: 0.48, In Design10? True\n",
      "Mut: Q31L, Frequency: 0.45, In Design10? True\n",
      "Mut: E41Q, Frequency: 0.42, In Design10? False\n",
      "Mut: A33M, Frequency: 0.33, In Design10? False\n",
      "Mut: N36I, Frequency: 0.32, In Design10? False\n",
      "Mut: L6P, Frequency: 0.3, In Design10? False\n",
      "Mut: T24R, Frequency: 0.24, In Design10? True\n",
      "Mut: A22P, Frequency: 0.24, In Design10? True\n",
      "Mut: Y44W, Frequency: 0.2, In Design10? False\n",
      "Mut: Y32K, Frequency: 0.2, In Design10? False\n",
      "Mut: D46R, Frequency: 0.18, In Design10? False\n",
      "Mut: T15I, Frequency: 0.18, In Design10? False\n",
      "Mut: D46W, Frequency: 0.17, In Design10? False\n",
      "Mut: V28R, Frequency: 0.17, In Design10? False\n",
      "Mut: E18W, Frequency: 0.16, In Design10? True\n",
      "Mut: K49G, Frequency: 0.16, In Design10? False\n",
      "Mut: T15L, Frequency: 0.15, In Design10? False\n",
      "Mut: T15R, Frequency: 0.13, In Design10? False\n",
      "Mut: E41T, Frequency: 0.13, In Design10? False\n",
      "Mut: E41V, Frequency: 0.12, In Design10? False\n",
      "Mut: F29W, Frequency: 0.11, In Design10? False\n",
      "Mut: T16W, Frequency: 0.11, In Design10? True\n",
      "Mut: L4N, Frequency: 0.1, In Design10? False\n"
     ]
    }
   ],
   "source": [
    "# Design10 info\n",
    "d10 = 'MQYKLILNGKTLKGETWTWGHDPYRAEKKFKLYANDNGVWGEWTYDDATKTFTVTE'\n",
    "d10_mutations = [wt_AA + str(i) + d10_AA for i, wt_AA, d10_AA in zip(range(len(WT)), WT, d10) if wt_AA != d10_AA]\n",
    "\n",
    "# General statistics\n",
    "designs_AA_seqs = [design_tools.mut2seq(WT, design) for design in designs]\n",
    "print('Number of unique designs: {}'.format(len(set(designs_AA_seqs))))\n",
    "print('Number of designs identical to Design10: {}'.format(designs_AA_seqs.count(d10)))\n",
    "print('Max predicted fitness: {}'.format(round(max(fitnesses)), 3))\n",
    "\n",
    "# Histogram of design fitnesses\n",
    "plt.hist(fitnesses)\n",
    "plt.xlabel('Fitness')\n",
    "plt.ylabel('Frequency')\n",
    "plt.show()\n",
    "\n",
    "# Frequency of each mutation among 100 designs\n",
    "all_mutations = []\n",
    "for design in designs:\n",
    "    for mut in design.split(','):\n",
    "        if mut not in all_mutations:\n",
    "            all_mutations.append(mut)\n",
    "            \n",
    "def frequency(mut):\n",
    "    return round(','.join(designs).split(',').count(mut)/len(designs), 2)\n",
    "all_mutations.sort(reverse=True, key=frequency)\n",
    "for mut in all_mutations:\n",
    "    if frequency(mut) < 0.1:\n",
    "        break\n",
    "    print('Mut: {}, Frequency: {}, In Design10? {}'.format(mut, frequency(mut), mut in d10_mutations))\n"
   ]
  },
  {
   "cell_type": "code",
   "execution_count": null,
   "metadata": {},
   "outputs": [],
   "source": []
  },
  {
   "cell_type": "code",
   "execution_count": null,
   "metadata": {},
   "outputs": [],
   "source": []
  }
 ],
 "metadata": {
  "kernelspec": {
   "display_name": "Python 3",
   "language": "python",
   "name": "python3"
  },
  "language_info": {
   "codemirror_mode": {
    "name": "ipython",
    "version": 3
   },
   "file_extension": ".py",
   "mimetype": "text/x-python",
   "name": "python",
   "nbconvert_exporter": "python",
   "pygments_lexer": "ipython3",
   "version": "3.8.8"
  }
 },
 "nbformat": 4,
 "nbformat_minor": 4
}
