{
 "cells": [
  {
   "cell_type": "markdown",
   "metadata": {},
   "source": [
    "# Encoding protein sequences with one-hot and AAindex encoding\n",
    "\n",
    "This notebook shows how to encode protein sequences with a combination of one-hot and AAindex encoding.\n",
    "The resulting encoded sequences are used as input to the neural networks."
   ]
  },
  {
   "cell_type": "code",
   "execution_count": 1,
   "metadata": {},
   "outputs": [],
   "source": [
    "# reload modules before executing code in order to make development and debugging easier\n",
    "%load_ext autoreload\n",
    "%autoreload 2"
   ]
  },
  {
   "cell_type": "code",
   "execution_count": 2,
   "metadata": {},
   "outputs": [],
   "source": [
    "# this jupyter notebook is running inside of the \"notebooks\" directory\n",
    "# for relative paths to work properly, we need to set the current working directory to the root of the project\n",
    "# for imports to work properly, we need to add the code folder to the system path\n",
    "import os\n",
    "from os.path import abspath, join, isdir\n",
    "import sys\n",
    "if not isdir(\"notebooks\"):\n",
    "    # if there's a \"notebooks\" directory in the cwd, we've already set the cwd so no need to do it again\n",
    "    os.chdir(\"..\")\n",
    "module_path = abspath(\"code\")\n",
    "if module_path not in sys.path:\n",
    "    sys.path.append(module_path)"
   ]
  },
  {
   "cell_type": "code",
   "execution_count": 3,
   "metadata": {},
   "outputs": [],
   "source": [
    "import numpy as np\n",
    "import constants\n",
    "import encode as enc"
   ]
  },
  {
   "cell_type": "markdown",
   "metadata": {},
   "source": [
    "The main function for encoding variants is `enc.encode()`. It supports encoding variants specified in two forms: as a full sequence of amino acids or as a list of mutations in the form &lt;current_aa&gt;&lt;position&gt;&lt;replacement_aa&gt;."
   ]
  },
  {
   "cell_type": "markdown",
   "metadata": {},
   "source": [
    "# Encode a full sequence\n",
    "Encoding a variant specified as a full sequence is straightforward. Let's say you want to encode a GB1 variant where the amino acid in position 3 (0-indexed) has been mutated from a K to an A. The full sequence of this variant is:\n",
    "\n",
    "> \"MQYALILNGKTLKGETTTEAVDAATAEKVFKQYANDNGVDGEWTYDDATKTFTVTE\""
   ]
  },
  {
   "cell_type": "code",
   "execution_count": 4,
   "metadata": {},
   "outputs": [
    {
     "data": {
      "text/plain": [
       "array([[ 0.        ,  0.        ,  0.        , ..., -3.4104924 ,\n",
       "         0.07120343, -0.9318722 ],\n",
       "       [ 0.        ,  0.        ,  0.        , ...,  6.655027  ,\n",
       "         0.6539753 , -0.17933992],\n",
       "       [ 0.        ,  0.        ,  0.        , ..., -0.842466  ,\n",
       "        -1.7963753 ,  0.29463208],\n",
       "       ...,\n",
       "       [ 0.        ,  0.        ,  0.        , ...,  0.2865151 ,\n",
       "         2.292554  , -5.5230074 ],\n",
       "       [ 0.        ,  0.        ,  0.        , ..., -1.9239038 ,\n",
       "        -4.5834727 ,  0.11366256],\n",
       "       [ 0.        ,  0.        ,  0.        , ..., -4.8518243 ,\n",
       "         0.7368123 ,  0.46764046]], dtype=float32)"
      ]
     },
     "execution_count": 4,
     "metadata": {},
     "output_type": "execute_result"
    }
   ],
   "source": [
    "char_seq = \"MQYALILNGKTLKGETTTEAVDAATAEKVFKQYANDNGVDGEWTYDDATKTFTVTE\"\n",
    "K3A = enc.encode(encoding=\"one_hot,aa_index\", char_seqs=char_seq)\n",
    "K3A"
   ]
  },
  {
   "cell_type": "markdown",
   "metadata": {},
   "source": [
    "## Encode multiple sequences"
   ]
  },
  {
   "cell_type": "markdown",
   "metadata": {},
   "source": [
    "You can also specify a list of sequences to encode."
   ]
  },
  {
   "cell_type": "code",
   "execution_count": 5,
   "metadata": {},
   "outputs": [
    {
     "data": {
      "text/plain": [
       "(2, 56, 40)"
      ]
     },
     "execution_count": 5,
     "metadata": {},
     "output_type": "execute_result"
    }
   ],
   "source": [
    "char_seqs = [\"MQYALILNGKTLKGETTTEAVDAATAEKVFKQYANDNGVDGEWTYDDATKTFTVTE\",\n",
    "             \"MLYALILNGKTLKGETTTEAVDAATAEKVFKQYANDNGVDGEWTYDDATKTFTVTE\"]\n",
    "encoded_seqs = enc.encode(encoding=\"one_hot,aa_index\", char_seqs=char_seqs)\n",
    "encoded_seqs.shape"
   ]
  },
  {
   "cell_type": "markdown",
   "metadata": {},
   "source": [
    "Dimension 1 corresponds to the number of variants, dimension 2 corresponds to the number of amino acids, and dimension 3 corresponds to the number of features for each amino acid (21 for one-hot encoding and 19 for AAindex for a total of 40)."
   ]
  },
  {
   "cell_type": "markdown",
   "metadata": {},
   "source": [
    "## Use a different encoding \n",
    "If you want to test only one-hot or only AAindex encoding, just specify the single encoding in the function call."
   ]
  },
  {
   "cell_type": "code",
   "execution_count": 6,
   "metadata": {},
   "outputs": [
    {
     "data": {
      "text/plain": [
       "(56, 21)"
      ]
     },
     "metadata": {},
     "output_type": "display_data"
    },
    {
     "data": {
      "text/plain": [
       "array([[False, False, False, ..., False, False, False],\n",
       "       [False, False, False, ..., False, False, False],\n",
       "       [False, False, False, ..., False, False,  True],\n",
       "       ...,\n",
       "       [False, False, False, ...,  True, False, False],\n",
       "       [False, False, False, ..., False, False, False],\n",
       "       [False, False, False, ..., False, False, False]])"
      ]
     },
     "metadata": {},
     "output_type": "display_data"
    }
   ],
   "source": [
    "char_seq = \"MLYKLILNGKTLKGETTTEAVDAATAEKVFKQYANDNGVDGEWTYDDATKTFTVTE\"\n",
    "Q1L = enc.encode(encoding=\"one_hot\", char_seqs=char_seq)\n",
    "display(Q1L.shape)\n",
    "display(Q1L)"
   ]
  },
  {
   "cell_type": "markdown",
   "metadata": {},
   "source": [
    "# Encode lists of mutations\n",
    "A more convenient way to specify variants is as a list of mutations in the form &lt;current_aa&gt;&lt;position&gt;&lt;replacement_aa&gt;. The variant from the previous section where the amino acid in position 3 (0-indexed) has been mutated from a K to an A can be simply specified as\n",
    "\n",
    "> \"K3A\"\n",
    "\n",
    "Multiple mutations in a single variant can be separated by commas:\n",
    "\n",
    "> \"Q1L,K3A\"\n",
    "\n",
    "If you are specifying a list of mutations, you must also specify the wild type sequence `wt_aa` and offset `wt_offset`. The offset is needed if your sequence has a non-zero starting point. For example, if your sequence starts at position 126, and you have variants starting with \"M126\", you must specify an offset of 126. This helps maintain 0-based indexing in the internal code."
   ]
  },
  {
   "cell_type": "code",
   "execution_count": 7,
   "metadata": {},
   "outputs": [
    {
     "data": {
      "text/plain": [
       "(2, 56, 40)"
      ]
     },
     "execution_count": 7,
     "metadata": {},
     "output_type": "execute_result"
    }
   ],
   "source": [
    "variants = [\"K3A\", \"Q1L,K3A\"]  # encode two variants\n",
    "gb1_wt = \"MQYKLILNGKTLKGETTTEAVDAATAEKVFKQYANDNGVDGEWTYDDATKTFTVTE\"\n",
    "gb1_offset = 0\n",
    "encoded_variants = enc.encode(encoding=\"one_hot,aa_index\", variants=variants, wt_aa=gb1_wt, wt_offset=gb1_offset)\n",
    "encoded_variants.shape"
   ]
  },
  {
   "cell_type": "markdown",
   "metadata": {},
   "source": [
    "Verify that these encoded variants are the same as the encoded sequences from above."
   ]
  },
  {
   "cell_type": "code",
   "execution_count": 8,
   "metadata": {},
   "outputs": [
    {
     "data": {
      "text/plain": [
       "True"
      ]
     },
     "execution_count": 8,
     "metadata": {},
     "output_type": "execute_result"
    }
   ],
   "source": [
    "np.all(encoded_variants == encoded_seqs)"
   ]
  },
  {
   "cell_type": "markdown",
   "metadata": {},
   "source": [
    "Rather than specifying the wild-type sequence and offset manually, you can define them in `constants.py` and simply specify the dataset name `ds_name` when calling `enc.encode()`."
   ]
  },
  {
   "cell_type": "code",
   "execution_count": 9,
   "metadata": {},
   "outputs": [
    {
     "data": {
      "text/plain": [
       "(2, 56, 40)"
      ]
     },
     "execution_count": 9,
     "metadata": {},
     "output_type": "execute_result"
    }
   ],
   "source": [
    "encoded_variants = enc.encode(encoding=\"one_hot,aa_index\", variants=variants, ds_name=\"gb1\")\n",
    "encoded_variants.shape"
   ]
  },
  {
   "cell_type": "markdown",
   "metadata": {},
   "source": [
    "We have added entries for all of our datasets in `constants.py`. You can also add your own dataset by matching the format we used for our datasets."
   ]
  },
  {
   "cell_type": "code",
   "execution_count": null,
   "metadata": {},
   "outputs": [],
   "source": [
    " "
   ]
  }
 ],
 "metadata": {
  "kernelspec": {
   "display_name": "Python 3",
   "language": "python",
   "name": "python3"
  },
  "language_info": {
   "codemirror_mode": {
    "name": "ipython",
    "version": 3
   },
   "file_extension": ".py",
   "mimetype": "text/x-python",
   "name": "python",
   "nbconvert_exporter": "python",
   "pygments_lexer": "ipython3",
   "version": "3.8.8"
  },
  "toc-autonumbering": true
 },
 "nbformat": 4,
 "nbformat_minor": 4
}
